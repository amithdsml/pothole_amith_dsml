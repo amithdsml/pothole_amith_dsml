{
 "cells": [
  {
   "cell_type": "code",
   "execution_count": null,
   "id": "fc7ef4fa-8eb6-47e0-ae4e-7475e53da2dd",
   "metadata": {},
   "outputs": [],
   "source": [
    "import os\n",
    "import torch\n",
    "from ultralytics import YOLO\n",
    "import cv2"
   ]
  },
  {
   "cell_type": "code",
   "execution_count": null,
   "id": "7bc32234-600b-451e-81e0-3a882852edd0",
   "metadata": {},
   "outputs": [],
   "source": [
    "print(torch.backends.mps.is_available())"
   ]
  },
  {
   "cell_type": "code",
   "execution_count": null,
   "id": "58573a80-33e5-4a2e-b18f-fb648a4ac0de",
   "metadata": {},
   "outputs": [],
   "source": [
    "ROOT_DIR = '/Users/amithmg/Documents/GitHub/pothole_amith_dsml/pothole_training/'\n",
    "\n",
    "## call the libraries\n",
    "import os\n",
    "from ultralytics import YOLO\n"
   ]
  },
  {
   "cell_type": "code",
   "execution_count": null,
   "id": "eab867e2-c3ea-43ae-a44b-99db8ae2e8ca",
   "metadata": {},
   "outputs": [],
   "source": []
  },
  {
   "cell_type": "code",
   "execution_count": null,
   "id": "09f5612a-8a80-48b3-a862-3ccad890e466",
   "metadata": {},
   "outputs": [],
   "source": []
  },
  {
   "cell_type": "code",
   "execution_count": null,
   "id": "89b87e97-1c21-4e01-9f9c-a7c63b039859",
   "metadata": {},
   "outputs": [],
   "source": [
    "## selecting the mode\n",
    "model = YOLO(\"yolov8n.pt\")"
   ]
  },
  {
   "cell_type": "code",
   "execution_count": null,
   "id": "86d655f6-d0da-46ac-a87e-e4061c05aec3",
   "metadata": {},
   "outputs": [],
   "source": [
    "\n",
    "results = model.train(data = os.path.join(ROOT_DIR, \"google_colab_config.yaml\"), epochs = 50, devices=\"mps\")\n"
   ]
  },
  {
   "cell_type": "code",
   "execution_count": null,
   "id": "1b8a487e-b4f0-4f5e-9de0-dcb83d62b531",
   "metadata": {},
   "outputs": [],
   "source": []
  },
  {
   "cell_type": "code",
   "execution_count": null,
   "id": "39aa53a0-e12e-49f9-9981-60fecf499356",
   "metadata": {},
   "outputs": [],
   "source": [
    "VIDEOS_DIR = os.path.join('.', 'videos')\n",
    "\n",
    "video_path = os.path.join(VIDEOS_DIR, 'alpaca1.mp4')\n",
    "video_path_out = '{}_out.mp4'.format(video_path)"
   ]
  },
  {
   "cell_type": "code",
   "execution_count": null,
   "id": "c4068d53-a9f5-4eeb-b00f-9f090b626bd9",
   "metadata": {},
   "outputs": [],
   "source": [
    "cap = cv2.VideoCapture(video_path)\n",
    "ret, frame = cap.read()\n",
    "H, W, _ = frame.shape\n",
    "out = cv2.VideoWriter(video_path_out, cv2.VideoWriter_fourcc(*'MP4V'), int(cap.get(cv2.CAP_PROP_FPS)), (W, H))\n",
    "\n",
    "model_path = os.path.join('.', 'runs', 'detect', 'train', 'weights', 'last.pt')"
   ]
  },
  {
   "cell_type": "code",
   "execution_count": null,
   "id": "34da99dc-f6d5-4302-8d65-242e19b046aa",
   "metadata": {},
   "outputs": [],
   "source": [
    "# Load a model\n",
    "model = YOLO(model_path)  # load a custom model\n",
    "\n",
    "threshold = 0.5\n",
    "\n",
    "while ret:\n",
    "\n",
    "    results = model(frame)[0]\n",
    "\n",
    "    for result in results.boxes.data.tolist():\n",
    "        x1, y1, x2, y2, score, class_id = result\n",
    "\n",
    "        if score > threshold:\n",
    "            cv2.rectangle(frame, (int(x1), int(y1)), (int(x2), int(y2)), (0, 255, 0), 4)\n",
    "            cv2.putText(frame, results.names[int(class_id)].upper(), (int(x1), int(y1 - 10)),\n",
    "                        cv2.FONT_HERSHEY_SIMPLEX, 1.3, (0, 255, 0), 3, cv2.LINE_AA)\n",
    "\n",
    "    out.write(frame)\n",
    "    ret, frame = cap.read()\n",
    "\n",
    "cap.release()\n",
    "out.release()\n",
    "cv2.destroyAllWindows()"
   ]
  }
 ],
 "metadata": {
  "kernelspec": {
   "display_name": "Python 3 (ipykernel)",
   "language": "python",
   "name": "python3"
  },
  "language_info": {
   "codemirror_mode": {
    "name": "ipython",
    "version": 3
   },
   "file_extension": ".py",
   "mimetype": "text/x-python",
   "name": "python",
   "nbconvert_exporter": "python",
   "pygments_lexer": "ipython3",
   "version": "3.12.2"
  }
 },
 "nbformat": 4,
 "nbformat_minor": 5
}
